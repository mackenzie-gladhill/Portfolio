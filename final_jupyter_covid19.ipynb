{
 "cells": [
  {
   "cell_type": "markdown",
   "metadata": {},
   "source": [
    "<h1>Analysis of Global COVID-19 Pandemic Data</h1>"
   ]
  },
  {
   "cell_type": "code",
   "execution_count": 43,
   "metadata": {},
   "outputs": [],
   "source": [
    "library(httr)\n",
    "library(rvest)\n",
    "library(magrittr)"
   ]
  },
  {
   "cell_type": "markdown",
   "metadata": {},
   "source": [
    "## Getting a `COVID-19 pandemic` Wiki page using HTTP request\n"
   ]
  },
  {
   "cell_type": "code",
   "execution_count": 32,
   "metadata": {},
   "outputs": [
    {
     "data": {
      "text/plain": [
       "Response [https://en.wikipedia.org/wiki/Main_Page]\n",
       "  Date: 2023-02-28 13:12\n",
       "  Status: 200\n",
       "  Content-Type: text/html; charset=UTF-8\n",
       "  Size: 93.7 kB\n",
       "<!DOCTYPE html>\n",
       "<html class=\"client-nojs vector-feature-language-in-header-enabled vector-fea...\n",
       "<head>\n",
       "<meta charset=\"UTF-8\"/>\n",
       "<title>Wikipedia, the free encyclopedia</title>\n",
       "<script>document.documentElement.className=\"client-js vector-feature-language...\n",
       "\"wgCSPNonce\":false,\"wgCanonicalNamespace\":\"\",\"wgCanonicalSpecialPageName\":fal...\n",
       "\"wgMediaViewerOnClick\":true,\"wgMediaViewerEnabledByDefault\":true,\"wgPopupsFla...\n",
       "\"mmv.head\",\"mmv.bootstrap.autostart\",\"ext.visualEditor.desktopArticleTarget.i...\n",
       "<script>(RLQ=window.RLQ||[]).push(function(){mw.loader.implement(\"user.option...\n",
       "..."
      ]
     },
     "metadata": {},
     "output_type": "display_data"
    }
   ],
   "source": [
    "# creating a function with url and query inputs, to get an http response\n",
    "get_covid19_page <- function(url,query) {\n",
    "    response <- GET(url, query)\n",
    "    return(response)\n",
    "}  \n",
    "\n",
    "base_url <- \"https://en.wikipedia.org/w/index.php\"\n",
    "query_parameters <- list(title=\"Template:COVID-19_testing_by_country\")\n",
    "\n",
    "get_covid19_page(base_url,query_parameters)\n"
   ]
  },
  {
   "cell_type": "markdown",
   "metadata": {},
   "source": [
    "## Extracting COVID-19 testing data table from the wiki HTML page\n"
   ]
  },
  {
   "cell_type": "markdown",
   "metadata": {},
   "source": [
    "Getting the root html node\n"
   ]
  },
  {
   "cell_type": "code",
   "execution_count": 57,
   "metadata": {},
   "outputs": [
    {
     "data": {
      "text/plain": [
       "{html_document}\n",
       "<html class=\"client-nojs vector-feature-language-in-header-enabled vector-feature-language-in-main-page-header-disabled vector-feature-language-alert-in-sidebar-enabled vector-feature-sticky-header-disabled vector-feature-page-tools-disabled vector-feature-page-tools-pinned-disabled vector-feature-main-menu-pinned-disabled vector-feature-limited-width-enabled vector-feature-limited-width-content-enabled\" lang=\"en\" dir=\"ltr\">\n",
       "[1] <head>\\n<meta http-equiv=\"Content-Type\" content=\"text/html; charset=UTF-8 ...\n",
       "[2] <body class=\"skin-vector skin-vector-search-vue vector-toc-pinned mediawi ..."
      ]
     },
     "metadata": {},
     "output_type": "display_data"
    }
   ],
   "source": [
    "root_node <- read_html(\"https://en.wikipedia.org/w/index.php?title=Template:COVID-19_testing_by_country\")\n",
    "root_node"
   ]
  },
  {
   "cell_type": "markdown",
   "metadata": {},
   "source": [
    "Getting the table node and converting to a dataframe"
   ]
  },
  {
   "cell_type": "code",
   "execution_count": 66,
   "metadata": {},
   "outputs": [],
   "source": [
    "read_page <- read_html(\"https://en.wikipedia.org/w/index.php?title=Template:COVID-19_testing_by_country\",as.data.frame=T,stringsAsFactors=TRUE)\n",
    "read_page %>%\n",
    "html_nodes(\"table\") %>%\n",
    ".[[2]] %>%\n",
    "html_table(fill=T) -> covid19"
   ]
  },
  {
   "cell_type": "code",
   "execution_count": 67,
   "metadata": {},
   "outputs": [
    {
     "data": {
      "text/html": [
       "<table>\n",
       "<caption>A data.frame: 6 × 9</caption>\n",
       "<thead>\n",
       "\t<tr><th></th><th scope=col>Country or region</th><th scope=col>Date[a]</th><th scope=col>Tested</th><th scope=col>Units[b]</th><th scope=col>Confirmed(cases)</th><th scope=col>Confirmed /tested,%</th><th scope=col>Tested /population,%</th><th scope=col>Confirmed /population,%</th><th scope=col>Ref.</th></tr>\n",
       "\t<tr><th></th><th scope=col>&lt;chr&gt;</th><th scope=col>&lt;chr&gt;</th><th scope=col>&lt;chr&gt;</th><th scope=col>&lt;chr&gt;</th><th scope=col>&lt;chr&gt;</th><th scope=col>&lt;chr&gt;</th><th scope=col>&lt;chr&gt;</th><th scope=col>&lt;chr&gt;</th><th scope=col>&lt;chr&gt;</th></tr>\n",
       "</thead>\n",
       "<tbody>\n",
       "\t<tr><th scope=row>1</th><td>Afghanistan        </td><td>17 Dec 2020</td><td>154,767</td><td>samples</td><td>49,621</td><td>32.1</td><td>0.40</td><td>0.13 </td><td>[1]   </td></tr>\n",
       "\t<tr><th scope=row>2</th><td>Albania            </td><td>18 Feb 2021</td><td>428,654</td><td>samples</td><td>96,838</td><td>22.6</td><td>15.0</td><td>3.4  </td><td>[2]   </td></tr>\n",
       "\t<tr><th scope=row>3</th><td>Algeria            </td><td>2 Nov 2020 </td><td>230,553</td><td>samples</td><td>58,574</td><td>25.4</td><td>0.53</td><td>0.13 </td><td>[3][4]</td></tr>\n",
       "\t<tr><th scope=row>4</th><td>Andorra            </td><td>23 Feb 2022</td><td>300,307</td><td>samples</td><td>37,958</td><td>12.6</td><td>387 </td><td>49.0 </td><td>[5]   </td></tr>\n",
       "\t<tr><th scope=row>5</th><td>Angola             </td><td>2 Feb 2021 </td><td>399,228</td><td>samples</td><td>20,981</td><td>5.3 </td><td>1.3 </td><td>0.067</td><td>[6]   </td></tr>\n",
       "\t<tr><th scope=row>6</th><td>Antigua and Barbuda</td><td>6 Mar 2021 </td><td>15,268 </td><td>samples</td><td>832   </td><td>5.4 </td><td>15.9</td><td>0.86 </td><td>[7]   </td></tr>\n",
       "</tbody>\n",
       "</table>\n"
      ],
      "text/latex": [
       "A data.frame: 6 × 9\n",
       "\\begin{tabular}{r|lllllllll}\n",
       "  & Country or region & Date{[}a{]} & Tested & Units{[}b{]} & Confirmed(cases) & Confirmed /tested,\\% & Tested /population,\\% & Confirmed /population,\\% & Ref.\\\\\n",
       "  & <chr> & <chr> & <chr> & <chr> & <chr> & <chr> & <chr> & <chr> & <chr>\\\\\n",
       "\\hline\n",
       "\t1 & Afghanistan         & 17 Dec 2020 & 154,767 & samples & 49,621 & 32.1 & 0.40 & 0.13  & {[}1{]}   \\\\\n",
       "\t2 & Albania             & 18 Feb 2021 & 428,654 & samples & 96,838 & 22.6 & 15.0 & 3.4   & {[}2{]}   \\\\\n",
       "\t3 & Algeria             & 2 Nov 2020  & 230,553 & samples & 58,574 & 25.4 & 0.53 & 0.13  & {[}3{]}{[}4{]}\\\\\n",
       "\t4 & Andorra             & 23 Feb 2022 & 300,307 & samples & 37,958 & 12.6 & 387  & 49.0  & {[}5{]}   \\\\\n",
       "\t5 & Angola              & 2 Feb 2021  & 399,228 & samples & 20,981 & 5.3  & 1.3  & 0.067 & {[}6{]}   \\\\\n",
       "\t6 & Antigua and Barbuda & 6 Mar 2021  & 15,268  & samples & 832    & 5.4  & 15.9 & 0.86  & {[}7{]}   \\\\\n",
       "\\end{tabular}\n"
      ],
      "text/markdown": [
       "\n",
       "A data.frame: 6 × 9\n",
       "\n",
       "| <!--/--> | Country or region &lt;chr&gt; | Date[a] &lt;chr&gt; | Tested &lt;chr&gt; | Units[b] &lt;chr&gt; | Confirmed(cases) &lt;chr&gt; | Confirmed /tested,% &lt;chr&gt; | Tested /population,% &lt;chr&gt; | Confirmed /population,% &lt;chr&gt; | Ref. &lt;chr&gt; |\n",
       "|---|---|---|---|---|---|---|---|---|---|\n",
       "| 1 | Afghanistan         | 17 Dec 2020 | 154,767 | samples | 49,621 | 32.1 | 0.40 | 0.13  | [1]    |\n",
       "| 2 | Albania             | 18 Feb 2021 | 428,654 | samples | 96,838 | 22.6 | 15.0 | 3.4   | [2]    |\n",
       "| 3 | Algeria             | 2 Nov 2020  | 230,553 | samples | 58,574 | 25.4 | 0.53 | 0.13  | [3][4] |\n",
       "| 4 | Andorra             | 23 Feb 2022 | 300,307 | samples | 37,958 | 12.6 | 387  | 49.0  | [5]    |\n",
       "| 5 | Angola              | 2 Feb 2021  | 399,228 | samples | 20,981 | 5.3  | 1.3  | 0.067 | [6]    |\n",
       "| 6 | Antigua and Barbuda | 6 Mar 2021  | 15,268  | samples | 832    | 5.4  | 15.9 | 0.86  | [7]    |\n",
       "\n"
      ],
      "text/plain": [
       "  Country or region   Date[a]     Tested  Units[b] Confirmed(cases)\n",
       "1 Afghanistan         17 Dec 2020 154,767 samples  49,621          \n",
       "2 Albania             18 Feb 2021 428,654 samples  96,838          \n",
       "3 Algeria             2 Nov 2020  230,553 samples  58,574          \n",
       "4 Andorra             23 Feb 2022 300,307 samples  37,958          \n",
       "5 Angola              2 Feb 2021  399,228 samples  20,981          \n",
       "6 Antigua and Barbuda 6 Mar 2021  15,268  samples  832             \n",
       "  Confirmed /tested,% Tested /population,% Confirmed /population,% Ref.  \n",
       "1 32.1                0.40                 0.13                    [1]   \n",
       "2 22.6                15.0                 3.4                     [2]   \n",
       "3 25.4                0.53                 0.13                    [3][4]\n",
       "4 12.6                387                  49.0                    [5]   \n",
       "5 5.3                 1.3                  0.067                   [6]   \n",
       "6 5.4                 15.9                 0.86                    [7]   "
      ]
     },
     "metadata": {},
     "output_type": "display_data"
    }
   ],
   "source": [
    "head(covid19)"
   ]
  },
  {
   "cell_type": "markdown",
   "metadata": {},
   "source": [
    "## Pre-processing and exporting the extracted data frame as a csv file"
   ]
  },
  {
   "cell_type": "code",
   "execution_count": 69,
   "metadata": {},
   "outputs": [
    {
     "data": {
      "text/plain": [
       " Country or region    Date[a]             Tested            Units[b]        \n",
       " Length:173         Length:173         Length:173         Length:173        \n",
       " Class :character   Class :character   Class :character   Class :character  \n",
       " Mode  :character   Mode  :character   Mode  :character   Mode  :character  \n",
       " Confirmed(cases)   Confirmed /tested,% Tested /population,%\n",
       " Length:173         Length:173          Length:173          \n",
       " Class :character   Class :character    Class :character    \n",
       " Mode  :character   Mode  :character    Mode  :character    \n",
       " Confirmed /population,%     Ref.          \n",
       " Length:173              Length:173        \n",
       " Class :character        Class :character  \n",
       " Mode  :character        Mode  :character  "
      ]
     },
     "metadata": {},
     "output_type": "display_data"
    }
   ],
   "source": [
    "# summary of the data frame\n",
    "summary(covid19)"
   ]
  },
  {
   "cell_type": "markdown",
   "metadata": {},
   "source": [
    "The data frame read from HTML table will need some pre-processing such as removing irrelvant columns, renaming columns, and convert columns into proper data types."
   ]
  },
  {
   "cell_type": "code",
   "execution_count": 70,
   "metadata": {},
   "outputs": [],
   "source": [
    "preprocess_covid19_df <- function(data_frame) {\n",
    "    \n",
    "    shape <- dim(data_frame)\n",
    "\n",
    "    # Removing the World row\n",
    "    data_frame<-data_frame[!(data_frame$`Country or region`==\"World\"),]\n",
    "    # Removing the last row\n",
    "    data_frame <- data_frame[1:172, ]\n",
    "    \n",
    "    # Removing the Units and Ref columns\n",
    "    data_frame[\"Ref.\"] <- NULL\n",
    "    data_frame[\"Units[b]\"] <- NULL\n",
    "    \n",
    "    # Renaming the columns\n",
    "    names(data_frame) <- c(\"country\", \"date\", \"tested\", \"confirmed\", \"confirmed.tested.ratio\", \"tested.population.ratio\", \"confirmed.population.ratio\")\n",
    "    \n",
    "    # Converting column data types\n",
    "    data_frame$country <- as.factor(data_frame$country)\n",
    "    data_frame$date <- as.factor(data_frame$date)\n",
    "    data_frame$tested <- as.numeric(gsub(\",\",\"\",data_frame$tested))\n",
    "    data_frame$confirmed <- as.numeric(gsub(\",\",\"\",data_frame$confirmed))\n",
    "    data_frame$'confirmed.tested.ratio' <- as.numeric(gsub(\",\",\"\",data_frame$`confirmed.tested.ratio`))\n",
    "    data_frame$'tested.population.ratio' <- as.numeric(gsub(\",\",\"\",data_frame$`tested.population.ratio`))\n",
    "    data_frame$'confirmed.population.ratio' <- as.numeric(gsub(\",\",\"\",data_frame$`confirmed.population.ratio`))\n",
    "    \n",
    "    return(data_frame)\n",
    "}"
   ]
  },
  {
   "cell_type": "code",
   "execution_count": 71,
   "metadata": {},
   "outputs": [
    {
     "data": {
      "text/html": [
       "<table>\n",
       "<caption>A data.frame: 6 × 7</caption>\n",
       "<thead>\n",
       "\t<tr><th></th><th scope=col>country</th><th scope=col>date</th><th scope=col>tested</th><th scope=col>confirmed</th><th scope=col>confirmed.tested.ratio</th><th scope=col>tested.population.ratio</th><th scope=col>confirmed.population.ratio</th></tr>\n",
       "\t<tr><th></th><th scope=col>&lt;fct&gt;</th><th scope=col>&lt;fct&gt;</th><th scope=col>&lt;dbl&gt;</th><th scope=col>&lt;dbl&gt;</th><th scope=col>&lt;dbl&gt;</th><th scope=col>&lt;dbl&gt;</th><th scope=col>&lt;dbl&gt;</th></tr>\n",
       "</thead>\n",
       "<tbody>\n",
       "\t<tr><th scope=row>1</th><td>Afghanistan        </td><td>17 Dec 2020</td><td>154767</td><td>49621</td><td>32.1</td><td>  0.40</td><td> 0.130</td></tr>\n",
       "\t<tr><th scope=row>2</th><td>Albania            </td><td>18 Feb 2021</td><td>428654</td><td>96838</td><td>22.6</td><td> 15.00</td><td> 3.400</td></tr>\n",
       "\t<tr><th scope=row>3</th><td>Algeria            </td><td>2 Nov 2020 </td><td>230553</td><td>58574</td><td>25.4</td><td>  0.53</td><td> 0.130</td></tr>\n",
       "\t<tr><th scope=row>4</th><td>Andorra            </td><td>23 Feb 2022</td><td>300307</td><td>37958</td><td>12.6</td><td>387.00</td><td>49.000</td></tr>\n",
       "\t<tr><th scope=row>5</th><td>Angola             </td><td>2 Feb 2021 </td><td>399228</td><td>20981</td><td> 5.3</td><td>  1.30</td><td> 0.067</td></tr>\n",
       "\t<tr><th scope=row>6</th><td>Antigua and Barbuda</td><td>6 Mar 2021 </td><td> 15268</td><td>  832</td><td> 5.4</td><td> 15.90</td><td> 0.860</td></tr>\n",
       "</tbody>\n",
       "</table>\n"
      ],
      "text/latex": [
       "A data.frame: 6 × 7\n",
       "\\begin{tabular}{r|lllllll}\n",
       "  & country & date & tested & confirmed & confirmed.tested.ratio & tested.population.ratio & confirmed.population.ratio\\\\\n",
       "  & <fct> & <fct> & <dbl> & <dbl> & <dbl> & <dbl> & <dbl>\\\\\n",
       "\\hline\n",
       "\t1 & Afghanistan         & 17 Dec 2020 & 154767 & 49621 & 32.1 &   0.40 &  0.130\\\\\n",
       "\t2 & Albania             & 18 Feb 2021 & 428654 & 96838 & 22.6 &  15.00 &  3.400\\\\\n",
       "\t3 & Algeria             & 2 Nov 2020  & 230553 & 58574 & 25.4 &   0.53 &  0.130\\\\\n",
       "\t4 & Andorra             & 23 Feb 2022 & 300307 & 37958 & 12.6 & 387.00 & 49.000\\\\\n",
       "\t5 & Angola              & 2 Feb 2021  & 399228 & 20981 &  5.3 &   1.30 &  0.067\\\\\n",
       "\t6 & Antigua and Barbuda & 6 Mar 2021  &  15268 &   832 &  5.4 &  15.90 &  0.860\\\\\n",
       "\\end{tabular}\n"
      ],
      "text/markdown": [
       "\n",
       "A data.frame: 6 × 7\n",
       "\n",
       "| <!--/--> | country &lt;fct&gt; | date &lt;fct&gt; | tested &lt;dbl&gt; | confirmed &lt;dbl&gt; | confirmed.tested.ratio &lt;dbl&gt; | tested.population.ratio &lt;dbl&gt; | confirmed.population.ratio &lt;dbl&gt; |\n",
       "|---|---|---|---|---|---|---|---|\n",
       "| 1 | Afghanistan         | 17 Dec 2020 | 154767 | 49621 | 32.1 |   0.40 |  0.130 |\n",
       "| 2 | Albania             | 18 Feb 2021 | 428654 | 96838 | 22.6 |  15.00 |  3.400 |\n",
       "| 3 | Algeria             | 2 Nov 2020  | 230553 | 58574 | 25.4 |   0.53 |  0.130 |\n",
       "| 4 | Andorra             | 23 Feb 2022 | 300307 | 37958 | 12.6 | 387.00 | 49.000 |\n",
       "| 5 | Angola              | 2 Feb 2021  | 399228 | 20981 |  5.3 |   1.30 |  0.067 |\n",
       "| 6 | Antigua and Barbuda | 6 Mar 2021  |  15268 |   832 |  5.4 |  15.90 |  0.860 |\n",
       "\n"
      ],
      "text/plain": [
       "  country             date        tested confirmed confirmed.tested.ratio\n",
       "1 Afghanistan         17 Dec 2020 154767 49621     32.1                  \n",
       "2 Albania             18 Feb 2021 428654 96838     22.6                  \n",
       "3 Algeria             2 Nov 2020  230553 58574     25.4                  \n",
       "4 Andorra             23 Feb 2022 300307 37958     12.6                  \n",
       "5 Angola              2 Feb 2021  399228 20981      5.3                  \n",
       "6 Antigua and Barbuda 6 Mar 2021   15268   832      5.4                  \n",
       "  tested.population.ratio confirmed.population.ratio\n",
       "1   0.40                   0.130                    \n",
       "2  15.00                   3.400                    \n",
       "3   0.53                   0.130                    \n",
       "4 387.00                  49.000                    \n",
       "5   1.30                   0.067                    \n",
       "6  15.90                   0.860                    "
      ]
     },
     "metadata": {},
     "output_type": "display_data"
    }
   ],
   "source": [
    "covid19_df <- preprocess_covid19_df(covid19)\n",
    "head(covid19_df)"
   ]
  },
  {
   "cell_type": "markdown",
   "metadata": {},
   "source": [
    "The final data frame has the following columns:\n",
    "\n",
    "- **country** - The name of the country\n",
    "- **date** - Reported date\n",
    "- **tested** - Total tested cases by the reported date\n",
    "- **confirmed** - Total confirmed cases by the reported date\n",
    "- **confirmed.tested.ratio** - The ratio of confirmed cases to the tested cases\n",
    "- **tested.population.ratio** - The ratio of tested cases to the population of the country\n",
    "- **confirmed.population.ratio** - The ratio of confirmed cases to the population of the country\n"
   ]
  },
  {
   "cell_type": "code",
   "execution_count": 72,
   "metadata": {},
   "outputs": [],
   "source": [
    "write.csv(covid19_df,\"covid19_global_testing.csv\")"
   ]
  },
  {
   "cell_type": "markdown",
   "metadata": {},
   "source": [
    "## Getting a subset of the extracted data frame\n"
   ]
  },
  {
   "cell_type": "code",
   "execution_count": 73,
   "metadata": {},
   "outputs": [
    {
     "data": {
      "text/html": [
       "<table>\n",
       "<caption>A data.frame: 6 × 2</caption>\n",
       "<thead>\n",
       "\t<tr><th></th><th scope=col>country</th><th scope=col>confirmed</th></tr>\n",
       "\t<tr><th></th><th scope=col>&lt;fct&gt;</th><th scope=col>&lt;int&gt;</th></tr>\n",
       "</thead>\n",
       "<tbody>\n",
       "\t<tr><th scope=row>5</th><td>Angola             </td><td>   20981</td></tr>\n",
       "\t<tr><th scope=row>6</th><td>Antigua and Barbuda</td><td>     832</td></tr>\n",
       "\t<tr><th scope=row>7</th><td>Argentina          </td><td> 9060495</td></tr>\n",
       "\t<tr><th scope=row>8</th><td>Armenia            </td><td>  422963</td></tr>\n",
       "\t<tr><th scope=row>9</th><td>Australia          </td><td>10112229</td></tr>\n",
       "\t<tr><th scope=row>10</th><td>Austria            </td><td> 5789991</td></tr>\n",
       "</tbody>\n",
       "</table>\n"
      ],
      "text/latex": [
       "A data.frame: 6 × 2\n",
       "\\begin{tabular}{r|ll}\n",
       "  & country & confirmed\\\\\n",
       "  & <fct> & <int>\\\\\n",
       "\\hline\n",
       "\t5 & Angola              &    20981\\\\\n",
       "\t6 & Antigua and Barbuda &      832\\\\\n",
       "\t7 & Argentina           &  9060495\\\\\n",
       "\t8 & Armenia             &   422963\\\\\n",
       "\t9 & Australia           & 10112229\\\\\n",
       "\t10 & Austria             &  5789991\\\\\n",
       "\\end{tabular}\n"
      ],
      "text/markdown": [
       "\n",
       "A data.frame: 6 × 2\n",
       "\n",
       "| <!--/--> | country &lt;fct&gt; | confirmed &lt;int&gt; |\n",
       "|---|---|---|\n",
       "| 5 | Angola              |    20981 |\n",
       "| 6 | Antigua and Barbuda |      832 |\n",
       "| 7 | Argentina           |  9060495 |\n",
       "| 8 | Armenia             |   422963 |\n",
       "| 9 | Australia           | 10112229 |\n",
       "| 10 | Austria             |  5789991 |\n",
       "\n"
      ],
      "text/plain": [
       "   country             confirmed\n",
       "5  Angola                 20981 \n",
       "6  Antigua and Barbuda      832 \n",
       "7  Argentina            9060495 \n",
       "8  Armenia               422963 \n",
       "9  Australia           10112229 \n",
       "10 Austria              5789991 "
      ]
     },
     "metadata": {},
     "output_type": "display_data"
    }
   ],
   "source": [
    "covid19_data <- read.csv(\"covid19_global_testing.csv\")\n",
    "covid19_data[5:10,c(\"country\",\"confirmed\")]"
   ]
  },
  {
   "cell_type": "markdown",
   "metadata": {},
   "source": [
    "## Calculating worldwide COVID positive testing ratio\n"
   ]
  },
  {
   "cell_type": "code",
   "execution_count": 118,
   "metadata": {},
   "outputs": [
    {
     "name": "stdout",
     "output_type": "stream",
     "text": [
      "[1] 431226336\n",
      "[1] 5392900253\n",
      "[1] 0.07996186\n"
     ]
    }
   ],
   "source": [
    "# Total confirmed cases worldwide\n",
    "confirmed <- print(sum(covid19_df$confirmed))\n",
    "# Total tested cases worldwide\n",
    "tested <- print(sum(covid19_df$tested))\n",
    "# Positive ratio \n",
    "print(confirmed/tested)"
   ]
  },
  {
   "cell_type": "markdown",
   "metadata": {},
   "source": [
    "## Getting a list of countries who reported their testing data \n"
   ]
  },
  {
   "cell_type": "code",
   "execution_count": 99,
   "metadata": {},
   "outputs": [
    {
     "data": {
      "text/html": [
       "<style>\n",
       ".list-inline {list-style: none; margin:0; padding: 0}\n",
       ".list-inline>li {display: inline-block}\n",
       ".list-inline>li:not(:last-child)::after {content: \"\\00b7\"; padding: 0 .5ex}\n",
       "</style>\n",
       "<ol class=list-inline><li>'Afghanistan'</li><li>'Albania'</li><li>'Algeria'</li><li>'Andorra'</li><li>'Angola'</li><li>'Antigua and Barbuda'</li><li>'Argentina'</li><li>'Armenia'</li><li>'Australia'</li><li>'Austria'</li><li>'Azerbaijan'</li><li>'Bahamas'</li><li>'Bahrain'</li><li>'Bangladesh'</li><li>'Barbados'</li><li>'Belarus'</li><li>'Belgium'</li><li>'Belize'</li><li>'Benin'</li><li>'Bhutan'</li><li>'Bolivia'</li><li>'Bosnia and Herzegovina'</li><li>'Botswana'</li><li>'Brazil'</li><li>'Brunei'</li><li>'Bulgaria'</li><li>'Burkina Faso'</li><li>'Burundi'</li><li>'Cambodia'</li><li>'Cameroon'</li><li>'Canada'</li><li>'Chad'</li><li>'Chile'</li><li>'China[c]'</li><li>'Colombia'</li><li>'Costa Rica'</li><li>'Croatia'</li><li>'Cuba'</li><li>'Cyprus[d]'</li><li>'Czechia'</li><li>'Denmark[e]'</li><li>'Djibouti'</li><li>'Dominica'</li><li>'Dominican Republic'</li><li>'DR Congo'</li><li>'Ecuador'</li><li>'Egypt'</li><li>'El Salvador'</li><li>'Equatorial Guinea'</li><li>'Estonia'</li><li>'Eswatini'</li><li>'Ethiopia'</li><li>'Faroe Islands'</li><li>'Fiji'</li><li>'Finland'</li><li>'France[f][g]'</li><li>'Gabon'</li><li>'Gambia'</li><li>'Georgia[h]'</li><li>'Germany'</li><li>'Ghana'</li><li>'Greece'</li><li>'Greenland'</li><li>'Grenada'</li><li>'Guatemala'</li><li>'Guinea'</li><li>'Guinea-Bissau'</li><li>'Guyana'</li><li>'Haiti'</li><li>'Honduras'</li><li>'Hungary'</li><li>'Iceland'</li><li>'India'</li><li>'Indonesia'</li><li>'Iran'</li><li>'Iraq'</li><li>'Ireland'</li><li>'Israel'</li><li>'Italy'</li><li>'Ivory Coast'</li><li>'Jamaica'</li><li>'Japan'</li><li>'Jordan'</li><li>'Kazakhstan'</li><li>'Kenya'</li><li>'Kosovo'</li><li>'Kuwait'</li><li>'Kyrgyzstan'</li><li>'Laos'</li><li>'Latvia'</li><li>'Lebanon'</li><li>'Lesotho'</li><li>'Liberia'</li><li>'Libya'</li><li>'Lithuania'</li><li>'Luxembourg[i]'</li><li>'Madagascar'</li><li>'Malawi'</li><li>'Malaysia'</li><li>'Maldives'</li><li>'Mali'</li><li>'Malta'</li><li>'Mauritania'</li><li>'Mauritius'</li><li>'Mexico'</li><li>'Moldova[j]'</li><li>'Mongolia'</li><li>'Montenegro'</li><li>'Morocco'</li><li>'Mozambique'</li><li>'Myanmar'</li><li>'Namibia'</li><li>'Nepal'</li><li>'Netherlands'</li><li>'New Caledonia'</li><li>'New Zealand'</li><li>'Niger'</li><li>'Nigeria'</li><li>'North Korea'</li><li>'North Macedonia'</li><li>'Northern Cyprus[k]'</li><li>'Norway'</li><li>'Oman'</li><li>'Pakistan'</li><li>'Palestine'</li><li>'Panama'</li><li>'Papua New Guinea'</li><li>'Paraguay'</li><li>'Peru'</li><li>'Philippines'</li><li>'Poland'</li><li>'Portugal'</li><li>'Qatar'</li><li>'Romania'</li><li>'Russia'</li><li>'Rwanda'</li><li>'Saint Kitts and Nevis'</li><li>'Saint Lucia'</li><li>'Saint Vincent'</li><li>'San Marino'</li><li>'Saudi Arabia'</li><li>'Senegal'</li><li>'Serbia'</li><li>'Singapore'</li><li>'Slovakia'</li><li>'Slovenia'</li><li>'South Africa'</li><li>'South Korea'</li><li>'South Sudan'</li><li>'Spain'</li><li>'Sri Lanka'</li><li>'Sudan'</li><li>'Sweden'</li><li>'Switzerland[l]'</li><li>'Taiwan[m]'</li><li>'Tanzania'</li><li>'Thailand'</li><li>'Togo'</li><li>'Trinidad and Tobago'</li><li>'Tunisia'</li><li>'Turkey'</li><li>'Uganda'</li><li>'Ukraine'</li><li>'United Arab Emirates'</li><li>'United Kingdom'</li><li>'United States'</li><li>'Uruguay'</li><li>'Uzbekistan'</li><li>'Venezuela'</li><li>'Vietnam'</li><li>'Zambia'</li><li>'Zimbabwe'</li></ol>\n"
      ],
      "text/latex": [
       "\\begin{enumerate*}\n",
       "\\item 'Afghanistan'\n",
       "\\item 'Albania'\n",
       "\\item 'Algeria'\n",
       "\\item 'Andorra'\n",
       "\\item 'Angola'\n",
       "\\item 'Antigua and Barbuda'\n",
       "\\item 'Argentina'\n",
       "\\item 'Armenia'\n",
       "\\item 'Australia'\n",
       "\\item 'Austria'\n",
       "\\item 'Azerbaijan'\n",
       "\\item 'Bahamas'\n",
       "\\item 'Bahrain'\n",
       "\\item 'Bangladesh'\n",
       "\\item 'Barbados'\n",
       "\\item 'Belarus'\n",
       "\\item 'Belgium'\n",
       "\\item 'Belize'\n",
       "\\item 'Benin'\n",
       "\\item 'Bhutan'\n",
       "\\item 'Bolivia'\n",
       "\\item 'Bosnia and Herzegovina'\n",
       "\\item 'Botswana'\n",
       "\\item 'Brazil'\n",
       "\\item 'Brunei'\n",
       "\\item 'Bulgaria'\n",
       "\\item 'Burkina Faso'\n",
       "\\item 'Burundi'\n",
       "\\item 'Cambodia'\n",
       "\\item 'Cameroon'\n",
       "\\item 'Canada'\n",
       "\\item 'Chad'\n",
       "\\item 'Chile'\n",
       "\\item 'China{[}c{]}'\n",
       "\\item 'Colombia'\n",
       "\\item 'Costa Rica'\n",
       "\\item 'Croatia'\n",
       "\\item 'Cuba'\n",
       "\\item 'Cyprus{[}d{]}'\n",
       "\\item 'Czechia'\n",
       "\\item 'Denmark{[}e{]}'\n",
       "\\item 'Djibouti'\n",
       "\\item 'Dominica'\n",
       "\\item 'Dominican Republic'\n",
       "\\item 'DR Congo'\n",
       "\\item 'Ecuador'\n",
       "\\item 'Egypt'\n",
       "\\item 'El Salvador'\n",
       "\\item 'Equatorial Guinea'\n",
       "\\item 'Estonia'\n",
       "\\item 'Eswatini'\n",
       "\\item 'Ethiopia'\n",
       "\\item 'Faroe Islands'\n",
       "\\item 'Fiji'\n",
       "\\item 'Finland'\n",
       "\\item 'France{[}f{]}{[}g{]}'\n",
       "\\item 'Gabon'\n",
       "\\item 'Gambia'\n",
       "\\item 'Georgia{[}h{]}'\n",
       "\\item 'Germany'\n",
       "\\item 'Ghana'\n",
       "\\item 'Greece'\n",
       "\\item 'Greenland'\n",
       "\\item 'Grenada'\n",
       "\\item 'Guatemala'\n",
       "\\item 'Guinea'\n",
       "\\item 'Guinea-Bissau'\n",
       "\\item 'Guyana'\n",
       "\\item 'Haiti'\n",
       "\\item 'Honduras'\n",
       "\\item 'Hungary'\n",
       "\\item 'Iceland'\n",
       "\\item 'India'\n",
       "\\item 'Indonesia'\n",
       "\\item 'Iran'\n",
       "\\item 'Iraq'\n",
       "\\item 'Ireland'\n",
       "\\item 'Israel'\n",
       "\\item 'Italy'\n",
       "\\item 'Ivory Coast'\n",
       "\\item 'Jamaica'\n",
       "\\item 'Japan'\n",
       "\\item 'Jordan'\n",
       "\\item 'Kazakhstan'\n",
       "\\item 'Kenya'\n",
       "\\item 'Kosovo'\n",
       "\\item 'Kuwait'\n",
       "\\item 'Kyrgyzstan'\n",
       "\\item 'Laos'\n",
       "\\item 'Latvia'\n",
       "\\item 'Lebanon'\n",
       "\\item 'Lesotho'\n",
       "\\item 'Liberia'\n",
       "\\item 'Libya'\n",
       "\\item 'Lithuania'\n",
       "\\item 'Luxembourg{[}i{]}'\n",
       "\\item 'Madagascar'\n",
       "\\item 'Malawi'\n",
       "\\item 'Malaysia'\n",
       "\\item 'Maldives'\n",
       "\\item 'Mali'\n",
       "\\item 'Malta'\n",
       "\\item 'Mauritania'\n",
       "\\item 'Mauritius'\n",
       "\\item 'Mexico'\n",
       "\\item 'Moldova{[}j{]}'\n",
       "\\item 'Mongolia'\n",
       "\\item 'Montenegro'\n",
       "\\item 'Morocco'\n",
       "\\item 'Mozambique'\n",
       "\\item 'Myanmar'\n",
       "\\item 'Namibia'\n",
       "\\item 'Nepal'\n",
       "\\item 'Netherlands'\n",
       "\\item 'New Caledonia'\n",
       "\\item 'New Zealand'\n",
       "\\item 'Niger'\n",
       "\\item 'Nigeria'\n",
       "\\item 'North Korea'\n",
       "\\item 'North Macedonia'\n",
       "\\item 'Northern Cyprus{[}k{]}'\n",
       "\\item 'Norway'\n",
       "\\item 'Oman'\n",
       "\\item 'Pakistan'\n",
       "\\item 'Palestine'\n",
       "\\item 'Panama'\n",
       "\\item 'Papua New Guinea'\n",
       "\\item 'Paraguay'\n",
       "\\item 'Peru'\n",
       "\\item 'Philippines'\n",
       "\\item 'Poland'\n",
       "\\item 'Portugal'\n",
       "\\item 'Qatar'\n",
       "\\item 'Romania'\n",
       "\\item 'Russia'\n",
       "\\item 'Rwanda'\n",
       "\\item 'Saint Kitts and Nevis'\n",
       "\\item 'Saint Lucia'\n",
       "\\item 'Saint Vincent'\n",
       "\\item 'San Marino'\n",
       "\\item 'Saudi Arabia'\n",
       "\\item 'Senegal'\n",
       "\\item 'Serbia'\n",
       "\\item 'Singapore'\n",
       "\\item 'Slovakia'\n",
       "\\item 'Slovenia'\n",
       "\\item 'South Africa'\n",
       "\\item 'South Korea'\n",
       "\\item 'South Sudan'\n",
       "\\item 'Spain'\n",
       "\\item 'Sri Lanka'\n",
       "\\item 'Sudan'\n",
       "\\item 'Sweden'\n",
       "\\item 'Switzerland{[}l{]}'\n",
       "\\item 'Taiwan{[}m{]}'\n",
       "\\item 'Tanzania'\n",
       "\\item 'Thailand'\n",
       "\\item 'Togo'\n",
       "\\item 'Trinidad and Tobago'\n",
       "\\item 'Tunisia'\n",
       "\\item 'Turkey'\n",
       "\\item 'Uganda'\n",
       "\\item 'Ukraine'\n",
       "\\item 'United Arab Emirates'\n",
       "\\item 'United Kingdom'\n",
       "\\item 'United States'\n",
       "\\item 'Uruguay'\n",
       "\\item 'Uzbekistan'\n",
       "\\item 'Venezuela'\n",
       "\\item 'Vietnam'\n",
       "\\item 'Zambia'\n",
       "\\item 'Zimbabwe'\n",
       "\\end{enumerate*}\n"
      ],
      "text/markdown": [
       "1. 'Afghanistan'\n",
       "2. 'Albania'\n",
       "3. 'Algeria'\n",
       "4. 'Andorra'\n",
       "5. 'Angola'\n",
       "6. 'Antigua and Barbuda'\n",
       "7. 'Argentina'\n",
       "8. 'Armenia'\n",
       "9. 'Australia'\n",
       "10. 'Austria'\n",
       "11. 'Azerbaijan'\n",
       "12. 'Bahamas'\n",
       "13. 'Bahrain'\n",
       "14. 'Bangladesh'\n",
       "15. 'Barbados'\n",
       "16. 'Belarus'\n",
       "17. 'Belgium'\n",
       "18. 'Belize'\n",
       "19. 'Benin'\n",
       "20. 'Bhutan'\n",
       "21. 'Bolivia'\n",
       "22. 'Bosnia and Herzegovina'\n",
       "23. 'Botswana'\n",
       "24. 'Brazil'\n",
       "25. 'Brunei'\n",
       "26. 'Bulgaria'\n",
       "27. 'Burkina Faso'\n",
       "28. 'Burundi'\n",
       "29. 'Cambodia'\n",
       "30. 'Cameroon'\n",
       "31. 'Canada'\n",
       "32. 'Chad'\n",
       "33. 'Chile'\n",
       "34. 'China[c]'\n",
       "35. 'Colombia'\n",
       "36. 'Costa Rica'\n",
       "37. 'Croatia'\n",
       "38. 'Cuba'\n",
       "39. 'Cyprus[d]'\n",
       "40. 'Czechia'\n",
       "41. 'Denmark[e]'\n",
       "42. 'Djibouti'\n",
       "43. 'Dominica'\n",
       "44. 'Dominican Republic'\n",
       "45. 'DR Congo'\n",
       "46. 'Ecuador'\n",
       "47. 'Egypt'\n",
       "48. 'El Salvador'\n",
       "49. 'Equatorial Guinea'\n",
       "50. 'Estonia'\n",
       "51. 'Eswatini'\n",
       "52. 'Ethiopia'\n",
       "53. 'Faroe Islands'\n",
       "54. 'Fiji'\n",
       "55. 'Finland'\n",
       "56. 'France[f][g]'\n",
       "57. 'Gabon'\n",
       "58. 'Gambia'\n",
       "59. 'Georgia[h]'\n",
       "60. 'Germany'\n",
       "61. 'Ghana'\n",
       "62. 'Greece'\n",
       "63. 'Greenland'\n",
       "64. 'Grenada'\n",
       "65. 'Guatemala'\n",
       "66. 'Guinea'\n",
       "67. 'Guinea-Bissau'\n",
       "68. 'Guyana'\n",
       "69. 'Haiti'\n",
       "70. 'Honduras'\n",
       "71. 'Hungary'\n",
       "72. 'Iceland'\n",
       "73. 'India'\n",
       "74. 'Indonesia'\n",
       "75. 'Iran'\n",
       "76. 'Iraq'\n",
       "77. 'Ireland'\n",
       "78. 'Israel'\n",
       "79. 'Italy'\n",
       "80. 'Ivory Coast'\n",
       "81. 'Jamaica'\n",
       "82. 'Japan'\n",
       "83. 'Jordan'\n",
       "84. 'Kazakhstan'\n",
       "85. 'Kenya'\n",
       "86. 'Kosovo'\n",
       "87. 'Kuwait'\n",
       "88. 'Kyrgyzstan'\n",
       "89. 'Laos'\n",
       "90. 'Latvia'\n",
       "91. 'Lebanon'\n",
       "92. 'Lesotho'\n",
       "93. 'Liberia'\n",
       "94. 'Libya'\n",
       "95. 'Lithuania'\n",
       "96. 'Luxembourg[i]'\n",
       "97. 'Madagascar'\n",
       "98. 'Malawi'\n",
       "99. 'Malaysia'\n",
       "100. 'Maldives'\n",
       "101. 'Mali'\n",
       "102. 'Malta'\n",
       "103. 'Mauritania'\n",
       "104. 'Mauritius'\n",
       "105. 'Mexico'\n",
       "106. 'Moldova[j]'\n",
       "107. 'Mongolia'\n",
       "108. 'Montenegro'\n",
       "109. 'Morocco'\n",
       "110. 'Mozambique'\n",
       "111. 'Myanmar'\n",
       "112. 'Namibia'\n",
       "113. 'Nepal'\n",
       "114. 'Netherlands'\n",
       "115. 'New Caledonia'\n",
       "116. 'New Zealand'\n",
       "117. 'Niger'\n",
       "118. 'Nigeria'\n",
       "119. 'North Korea'\n",
       "120. 'North Macedonia'\n",
       "121. 'Northern Cyprus[k]'\n",
       "122. 'Norway'\n",
       "123. 'Oman'\n",
       "124. 'Pakistan'\n",
       "125. 'Palestine'\n",
       "126. 'Panama'\n",
       "127. 'Papua New Guinea'\n",
       "128. 'Paraguay'\n",
       "129. 'Peru'\n",
       "130. 'Philippines'\n",
       "131. 'Poland'\n",
       "132. 'Portugal'\n",
       "133. 'Qatar'\n",
       "134. 'Romania'\n",
       "135. 'Russia'\n",
       "136. 'Rwanda'\n",
       "137. 'Saint Kitts and Nevis'\n",
       "138. 'Saint Lucia'\n",
       "139. 'Saint Vincent'\n",
       "140. 'San Marino'\n",
       "141. 'Saudi Arabia'\n",
       "142. 'Senegal'\n",
       "143. 'Serbia'\n",
       "144. 'Singapore'\n",
       "145. 'Slovakia'\n",
       "146. 'Slovenia'\n",
       "147. 'South Africa'\n",
       "148. 'South Korea'\n",
       "149. 'South Sudan'\n",
       "150. 'Spain'\n",
       "151. 'Sri Lanka'\n",
       "152. 'Sudan'\n",
       "153. 'Sweden'\n",
       "154. 'Switzerland[l]'\n",
       "155. 'Taiwan[m]'\n",
       "156. 'Tanzania'\n",
       "157. 'Thailand'\n",
       "158. 'Togo'\n",
       "159. 'Trinidad and Tobago'\n",
       "160. 'Tunisia'\n",
       "161. 'Turkey'\n",
       "162. 'Uganda'\n",
       "163. 'Ukraine'\n",
       "164. 'United Arab Emirates'\n",
       "165. 'United Kingdom'\n",
       "166. 'United States'\n",
       "167. 'Uruguay'\n",
       "168. 'Uzbekistan'\n",
       "169. 'Venezuela'\n",
       "170. 'Vietnam'\n",
       "171. 'Zambia'\n",
       "172. 'Zimbabwe'\n",
       "\n",
       "\n"
      ],
      "text/plain": [
       "  [1] \"Afghanistan\"            \"Albania\"                \"Algeria\"               \n",
       "  [4] \"Andorra\"                \"Angola\"                 \"Antigua and Barbuda\"   \n",
       "  [7] \"Argentina\"              \"Armenia\"                \"Australia\"             \n",
       " [10] \"Austria\"                \"Azerbaijan\"             \"Bahamas\"               \n",
       " [13] \"Bahrain\"                \"Bangladesh\"             \"Barbados\"              \n",
       " [16] \"Belarus\"                \"Belgium\"                \"Belize\"                \n",
       " [19] \"Benin\"                  \"Bhutan\"                 \"Bolivia\"               \n",
       " [22] \"Bosnia and Herzegovina\" \"Botswana\"               \"Brazil\"                \n",
       " [25] \"Brunei\"                 \"Bulgaria\"               \"Burkina Faso\"          \n",
       " [28] \"Burundi\"                \"Cambodia\"               \"Cameroon\"              \n",
       " [31] \"Canada\"                 \"Chad\"                   \"Chile\"                 \n",
       " [34] \"China[c]\"               \"Colombia\"               \"Costa Rica\"            \n",
       " [37] \"Croatia\"                \"Cuba\"                   \"Cyprus[d]\"             \n",
       " [40] \"Czechia\"                \"Denmark[e]\"             \"Djibouti\"              \n",
       " [43] \"Dominica\"               \"Dominican Republic\"     \"DR Congo\"              \n",
       " [46] \"Ecuador\"                \"Egypt\"                  \"El Salvador\"           \n",
       " [49] \"Equatorial Guinea\"      \"Estonia\"                \"Eswatini\"              \n",
       " [52] \"Ethiopia\"               \"Faroe Islands\"          \"Fiji\"                  \n",
       " [55] \"Finland\"                \"France[f][g]\"           \"Gabon\"                 \n",
       " [58] \"Gambia\"                 \"Georgia[h]\"             \"Germany\"               \n",
       " [61] \"Ghana\"                  \"Greece\"                 \"Greenland\"             \n",
       " [64] \"Grenada\"                \"Guatemala\"              \"Guinea\"                \n",
       " [67] \"Guinea-Bissau\"          \"Guyana\"                 \"Haiti\"                 \n",
       " [70] \"Honduras\"               \"Hungary\"                \"Iceland\"               \n",
       " [73] \"India\"                  \"Indonesia\"              \"Iran\"                  \n",
       " [76] \"Iraq\"                   \"Ireland\"                \"Israel\"                \n",
       " [79] \"Italy\"                  \"Ivory Coast\"            \"Jamaica\"               \n",
       " [82] \"Japan\"                  \"Jordan\"                 \"Kazakhstan\"            \n",
       " [85] \"Kenya\"                  \"Kosovo\"                 \"Kuwait\"                \n",
       " [88] \"Kyrgyzstan\"             \"Laos\"                   \"Latvia\"                \n",
       " [91] \"Lebanon\"                \"Lesotho\"                \"Liberia\"               \n",
       " [94] \"Libya\"                  \"Lithuania\"              \"Luxembourg[i]\"         \n",
       " [97] \"Madagascar\"             \"Malawi\"                 \"Malaysia\"              \n",
       "[100] \"Maldives\"               \"Mali\"                   \"Malta\"                 \n",
       "[103] \"Mauritania\"             \"Mauritius\"              \"Mexico\"                \n",
       "[106] \"Moldova[j]\"             \"Mongolia\"               \"Montenegro\"            \n",
       "[109] \"Morocco\"                \"Mozambique\"             \"Myanmar\"               \n",
       "[112] \"Namibia\"                \"Nepal\"                  \"Netherlands\"           \n",
       "[115] \"New Caledonia\"          \"New Zealand\"            \"Niger\"                 \n",
       "[118] \"Nigeria\"                \"North Korea\"            \"North Macedonia\"       \n",
       "[121] \"Northern Cyprus[k]\"     \"Norway\"                 \"Oman\"                  \n",
       "[124] \"Pakistan\"               \"Palestine\"              \"Panama\"                \n",
       "[127] \"Papua New Guinea\"       \"Paraguay\"               \"Peru\"                  \n",
       "[130] \"Philippines\"            \"Poland\"                 \"Portugal\"              \n",
       "[133] \"Qatar\"                  \"Romania\"                \"Russia\"                \n",
       "[136] \"Rwanda\"                 \"Saint Kitts and Nevis\"  \"Saint Lucia\"           \n",
       "[139] \"Saint Vincent\"          \"San Marino\"             \"Saudi Arabia\"          \n",
       "[142] \"Senegal\"                \"Serbia\"                 \"Singapore\"             \n",
       "[145] \"Slovakia\"               \"Slovenia\"               \"South Africa\"          \n",
       "[148] \"South Korea\"            \"South Sudan\"            \"Spain\"                 \n",
       "[151] \"Sri Lanka\"              \"Sudan\"                  \"Sweden\"                \n",
       "[154] \"Switzerland[l]\"         \"Taiwan[m]\"              \"Tanzania\"              \n",
       "[157] \"Thailand\"               \"Togo\"                   \"Trinidad and Tobago\"   \n",
       "[160] \"Tunisia\"                \"Turkey\"                 \"Uganda\"                \n",
       "[163] \"Ukraine\"                \"United Arab Emirates\"   \"United Kingdom\"        \n",
       "[166] \"United States\"          \"Uruguay\"                \"Uzbekistan\"            \n",
       "[169] \"Venezuela\"              \"Vietnam\"                \"Zambia\"                \n",
       "[172] \"Zimbabwe\"              "
      ]
     },
     "metadata": {},
     "output_type": "display_data"
    },
    {
     "name": "stdout",
     "output_type": "stream",
     "text": [
      "  [1] \"Zimbabwe\"               \"Zambia\"                 \"Vietnam\"               \n",
      "  [4] \"Venezuela\"              \"Uzbekistan\"             \"Uruguay\"               \n",
      "  [7] \"United States\"          \"United Kingdom\"         \"United Arab Emirates\"  \n",
      " [10] \"Ukraine\"                \"Uganda\"                 \"Turkey\"                \n",
      " [13] \"Tunisia\"                \"Trinidad and Tobago\"    \"Togo\"                  \n",
      " [16] \"Thailand\"               \"Tanzania\"               \"Taiwan[m]\"             \n",
      " [19] \"Switzerland[l]\"         \"Sweden\"                 \"Sudan\"                 \n",
      " [22] \"Sri Lanka\"              \"Spain\"                  \"South Sudan\"           \n",
      " [25] \"South Korea\"            \"South Africa\"           \"Slovenia\"              \n",
      " [28] \"Slovakia\"               \"Singapore\"              \"Serbia\"                \n",
      " [31] \"Senegal\"                \"Saudi Arabia\"           \"San Marino\"            \n",
      " [34] \"Saint Vincent\"          \"Saint Lucia\"            \"Saint Kitts and Nevis\" \n",
      " [37] \"Rwanda\"                 \"Russia\"                 \"Romania\"               \n",
      " [40] \"Qatar\"                  \"Portugal\"               \"Poland\"                \n",
      " [43] \"Philippines\"            \"Peru\"                   \"Paraguay\"              \n",
      " [46] \"Papua New Guinea\"       \"Panama\"                 \"Palestine\"             \n",
      " [49] \"Pakistan\"               \"Oman\"                   \"Norway\"                \n",
      " [52] \"Northern Cyprus[k]\"     \"North Macedonia\"        \"North Korea\"           \n",
      " [55] \"Nigeria\"                \"Niger\"                  \"New Zealand\"           \n",
      " [58] \"New Caledonia\"          \"Netherlands\"            \"Nepal\"                 \n",
      " [61] \"Namibia\"                \"Myanmar\"                \"Mozambique\"            \n",
      " [64] \"Morocco\"                \"Montenegro\"             \"Mongolia\"              \n",
      " [67] \"Moldova[j]\"             \"Mexico\"                 \"Mauritius\"             \n",
      " [70] \"Mauritania\"             \"Malta\"                  \"Mali\"                  \n",
      " [73] \"Maldives\"               \"Malaysia\"               \"Malawi\"                \n",
      " [76] \"Madagascar\"             \"Luxembourg[i]\"          \"Lithuania\"             \n",
      " [79] \"Libya\"                  \"Liberia\"                \"Lesotho\"               \n",
      " [82] \"Lebanon\"                \"Latvia\"                 \"Laos\"                  \n",
      " [85] \"Kyrgyzstan\"             \"Kuwait\"                 \"Kosovo\"                \n",
      " [88] \"Kenya\"                  \"Kazakhstan\"             \"Jordan\"                \n",
      " [91] \"Japan\"                  \"Jamaica\"                \"Ivory Coast\"           \n",
      " [94] \"Italy\"                  \"Israel\"                 \"Ireland\"               \n",
      " [97] \"Iraq\"                   \"Iran\"                   \"Indonesia\"             \n",
      "[100] \"India\"                  \"Iceland\"                \"Hungary\"               \n",
      "[103] \"Honduras\"               \"Haiti\"                  \"Guyana\"                \n",
      "[106] \"Guinea-Bissau\"          \"Guinea\"                 \"Guatemala\"             \n",
      "[109] \"Grenada\"                \"Greenland\"              \"Greece\"                \n",
      "[112] \"Ghana\"                  \"Germany\"                \"Georgia[h]\"            \n",
      "[115] \"Gambia\"                 \"Gabon\"                  \"France[f][g]\"          \n",
      "[118] \"Finland\"                \"Fiji\"                   \"Faroe Islands\"         \n",
      "[121] \"Ethiopia\"               \"Eswatini\"               \"Estonia\"               \n",
      "[124] \"Equatorial Guinea\"      \"El Salvador\"            \"Egypt\"                 \n",
      "[127] \"Ecuador\"                \"DR Congo\"               \"Dominican Republic\"    \n",
      "[130] \"Dominica\"               \"Djibouti\"               \"Denmark[e]\"            \n",
      "[133] \"Czechia\"                \"Cyprus[d]\"              \"Cuba\"                  \n",
      "[136] \"Croatia\"                \"Costa Rica\"             \"Colombia\"              \n",
      "[139] \"China[c]\"               \"Chile\"                  \"Chad\"                  \n",
      "[142] \"Canada\"                 \"Cameroon\"               \"Cambodia\"              \n",
      "[145] \"Burundi\"                \"Burkina Faso\"           \"Bulgaria\"              \n",
      "[148] \"Brunei\"                 \"Brazil\"                 \"Botswana\"              \n",
      "[151] \"Bosnia and Herzegovina\" \"Bolivia\"                \"Bhutan\"                \n",
      "[154] \"Benin\"                  \"Belize\"                 \"Belgium\"               \n",
      "[157] \"Belarus\"                \"Barbados\"               \"Bangladesh\"            \n",
      "[160] \"Bahrain\"                \"Bahamas\"                \"Azerbaijan\"            \n",
      "[163] \"Austria\"                \"Australia\"              \"Armenia\"               \n",
      "[166] \"Argentina\"              \"Antigua and Barbuda\"    \"Angola\"                \n",
      "[169] \"Andorra\"                \"Algeria\"                \"Albania\"               \n",
      "[172] \"Afghanistan\"           \n"
     ]
    }
   ],
   "source": [
    "#Converting the country column to type character and then sorting\n",
    "#A to Z\n",
    "sort(as.character(covid19_df$country))\n",
    "#Z to A\n",
    "print(sort(as.character(covid19_df$country),decreasing=T))"
   ]
  },
  {
   "cell_type": "markdown",
   "metadata": {},
   "source": [
    "## Identifying country names with a specific pattern"
   ]
  },
  {
   "cell_type": "code",
   "execution_count": 117,
   "metadata": {},
   "outputs": [
    {
     "data": {
      "text/html": [
       "<style>\n",
       ".list-inline {list-style: none; margin:0; padding: 0}\n",
       ".list-inline>li {display: inline-block}\n",
       ".list-inline>li:not(:last-child)::after {content: \"\\00b7\"; padding: 0 .5ex}\n",
       "</style>\n",
       "<ol class=list-inline><li>'United Arab Emirates'</li><li>'United Kingdom'</li><li>'United States'</li></ol>\n"
      ],
      "text/latex": [
       "\\begin{enumerate*}\n",
       "\\item 'United Arab Emirates'\n",
       "\\item 'United Kingdom'\n",
       "\\item 'United States'\n",
       "\\end{enumerate*}\n"
      ],
      "text/markdown": [
       "1. 'United Arab Emirates'\n",
       "2. 'United Kingdom'\n",
       "3. 'United States'\n",
       "\n",
       "\n"
      ],
      "text/plain": [
       "[1] \"United Arab Emirates\" \"United Kingdom\"       \"United States\"       "
      ]
     },
     "metadata": {},
     "output_type": "display_data"
    }
   ],
   "source": [
    "#Finding countries that contain \"United\"\n",
    "strings <- covid19_df$country\n",
    "pattern <- \"United.+\"\n",
    "grep(pattern,strings,value=T)"
   ]
  },
  {
   "cell_type": "markdown",
   "metadata": {},
   "source": [
    "## Selecting two countries and reviewing their testing data\n"
   ]
  },
  {
   "cell_type": "code",
   "execution_count": 114,
   "metadata": {},
   "outputs": [
    {
     "name": "stdout",
     "output_type": "stream",
     "text": [
      "   country confirmed confirmed.population.ratio\n",
      "85   Kenya    107729                       0.23\n",
      "        country confirmed confirmed.population.ratio\n",
      "130 Philippines   4073980                          4\n"
     ]
    }
   ],
   "source": [
    "Kenya_data <- covid19_df[85,c(\"country\",\"confirmed\",\"confirmed.population.ratio\")]\n",
    "\n",
    "Philippines_data <- covid19_df[130,c(\"country\",\"confirmed\",\"confirmed.population.ratio\")]\n",
    "\n",
    "print(Kenya_data)\n",
    "print(Philippines_data)"
   ]
  },
  {
   "cell_type": "markdown",
   "metadata": {},
   "source": [
    "## Comparing which one of the selected countries has a larger ratio of confirmed cases to population"
   ]
  },
  {
   "cell_type": "code",
   "execution_count": 115,
   "metadata": {},
   "outputs": [
    {
     "name": "stdout",
     "output_type": "stream",
     "text": [
      "[1] \"The Philippines has a larger ratio of confirmed cases per the population\"\n"
     ]
    }
   ],
   "source": [
    "if (Kenya_data$confirmed.population.ratio > Philippines_data$confirmed.population.ratio) {\n",
    "    print(\"Kenya has a larger ratio of confirmed cases per the population\")\n",
    "} else {\n",
    "    print(\"The Philippines has a larger ratio of confirmed cases per the population\")\n",
    "}"
   ]
  },
  {
   "cell_type": "markdown",
   "metadata": {},
   "source": [
    "## Finding countries with confirmed to population ratio rate less than 1%"
   ]
  },
  {
   "cell_type": "code",
   "execution_count": 116,
   "metadata": {},
   "outputs": [
    {
     "data": {
      "text/html": [
       "<table>\n",
       "<caption>A data.frame: 5 × 7</caption>\n",
       "<thead>\n",
       "\t<tr><th></th><th scope=col>country</th><th scope=col>date</th><th scope=col>tested</th><th scope=col>confirmed</th><th scope=col>confirmed.tested.ratio</th><th scope=col>tested.population.ratio</th><th scope=col>confirmed.population.ratio</th></tr>\n",
       "\t<tr><th></th><th scope=col>&lt;fct&gt;</th><th scope=col>&lt;fct&gt;</th><th scope=col>&lt;dbl&gt;</th><th scope=col>&lt;dbl&gt;</th><th scope=col>&lt;dbl&gt;</th><th scope=col>&lt;dbl&gt;</th><th scope=col>&lt;dbl&gt;</th></tr>\n",
       "</thead>\n",
       "<tbody>\n",
       "\t<tr><th scope=row>28</th><td>Burundi    </td><td>5 Jan 2021 </td><td>    90019</td><td>  884</td><td> 0.980</td><td> 0.7600</td><td>0.00740</td></tr>\n",
       "\t<tr><th scope=row>34</th><td>China[c]   </td><td>31 Jul 2020</td><td>160000000</td><td>87655</td><td> 0.055</td><td>11.1000</td><td>0.00610</td></tr>\n",
       "\t<tr><th scope=row>89</th><td>Laos       </td><td>1 Mar 2021 </td><td>   114030</td><td>   45</td><td> 0.039</td><td> 1.6000</td><td>0.00063</td></tr>\n",
       "\t<tr><th scope=row>119</th><td>North Korea</td><td>25 Nov 2020</td><td>    16914</td><td>    0</td><td> 0.000</td><td> 0.0660</td><td>0.00000</td></tr>\n",
       "\t<tr><th scope=row>156</th><td>Tanzania   </td><td>18 Nov 2020</td><td>     3880</td><td>  509</td><td>13.100</td><td> 0.0065</td><td>0.00085</td></tr>\n",
       "</tbody>\n",
       "</table>\n"
      ],
      "text/latex": [
       "A data.frame: 5 × 7\n",
       "\\begin{tabular}{r|lllllll}\n",
       "  & country & date & tested & confirmed & confirmed.tested.ratio & tested.population.ratio & confirmed.population.ratio\\\\\n",
       "  & <fct> & <fct> & <dbl> & <dbl> & <dbl> & <dbl> & <dbl>\\\\\n",
       "\\hline\n",
       "\t28 & Burundi     & 5 Jan 2021  &     90019 &   884 &  0.980 &  0.7600 & 0.00740\\\\\n",
       "\t34 & China{[}c{]}    & 31 Jul 2020 & 160000000 & 87655 &  0.055 & 11.1000 & 0.00610\\\\\n",
       "\t89 & Laos        & 1 Mar 2021  &    114030 &    45 &  0.039 &  1.6000 & 0.00063\\\\\n",
       "\t119 & North Korea & 25 Nov 2020 &     16914 &     0 &  0.000 &  0.0660 & 0.00000\\\\\n",
       "\t156 & Tanzania    & 18 Nov 2020 &      3880 &   509 & 13.100 &  0.0065 & 0.00085\\\\\n",
       "\\end{tabular}\n"
      ],
      "text/markdown": [
       "\n",
       "A data.frame: 5 × 7\n",
       "\n",
       "| <!--/--> | country &lt;fct&gt; | date &lt;fct&gt; | tested &lt;dbl&gt; | confirmed &lt;dbl&gt; | confirmed.tested.ratio &lt;dbl&gt; | tested.population.ratio &lt;dbl&gt; | confirmed.population.ratio &lt;dbl&gt; |\n",
       "|---|---|---|---|---|---|---|---|\n",
       "| 28 | Burundi     | 5 Jan 2021  |     90019 |   884 |  0.980 |  0.7600 | 0.00740 |\n",
       "| 34 | China[c]    | 31 Jul 2020 | 160000000 | 87655 |  0.055 | 11.1000 | 0.00610 |\n",
       "| 89 | Laos        | 1 Mar 2021  |    114030 |    45 |  0.039 |  1.6000 | 0.00063 |\n",
       "| 119 | North Korea | 25 Nov 2020 |     16914 |     0 |  0.000 |  0.0660 | 0.00000 |\n",
       "| 156 | Tanzania    | 18 Nov 2020 |      3880 |   509 | 13.100 |  0.0065 | 0.00085 |\n",
       "\n"
      ],
      "text/plain": [
       "    country     date        tested    confirmed confirmed.tested.ratio\n",
       "28  Burundi     5 Jan 2021      90019   884      0.980                \n",
       "34  China[c]    31 Jul 2020 160000000 87655      0.055                \n",
       "89  Laos        1 Mar 2021     114030    45      0.039                \n",
       "119 North Korea 25 Nov 2020     16914     0      0.000                \n",
       "156 Tanzania    18 Nov 2020      3880   509     13.100                \n",
       "    tested.population.ratio confirmed.population.ratio\n",
       "28   0.7600                 0.00740                   \n",
       "34  11.1000                 0.00610                   \n",
       "89   1.6000                 0.00063                   \n",
       "119  0.0660                 0.00000                   \n",
       "156  0.0065                 0.00085                   "
      ]
     },
     "metadata": {},
     "output_type": "display_data"
    }
   ],
   "source": [
    "subset(covid19_df,confirmed.population.ratio < 0.01)"
   ]
  }
 ],
 "metadata": {
  "kernelspec": {
   "display_name": "R",
   "language": "R",
   "name": "conda-env-r-r"
  },
  "language_info": {
   "codemirror_mode": "r",
   "file_extension": ".r",
   "mimetype": "text/x-r-source",
   "name": "R",
   "pygments_lexer": "r",
   "version": "3.5.1"
  }
 },
 "nbformat": 4,
 "nbformat_minor": 4
}
